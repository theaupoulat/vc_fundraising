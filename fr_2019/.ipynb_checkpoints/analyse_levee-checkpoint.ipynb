{
 "cells": [
  {
   "cell_type": "markdown",
   "metadata": {},
   "source": [
    "### Analyse des levées françaises de 2019"
   ]
  },
  {
   "cell_type": "code",
   "execution_count": 20,
   "metadata": {},
   "outputs": [],
   "source": [
    "import numpy as np\n",
    "import pandas as pd\n",
    "import matplotlib.pyplot as plt\n",
    "from matplotlib.ticker import MultipleLocator, FormatStrFormatter\n",
    "import seaborn as sns\n",
    "\n",
    "\n",
    "plt.style.use('fivethirtyeight')\n",
    "\n"
   ]
  },
  {
   "cell_type": "code",
   "execution_count": 21,
   "metadata": {},
   "outputs": [
    {
     "data": {
      "text/plain": [
       "<matplotlib.axes._subplots.AxesSubplot at 0x7f986e2b69e8>"
      ]
     },
     "execution_count": 21,
     "metadata": {},
     "output_type": "execute_result"
    },
    {
     "data": {
      "image/png": "[encoded data removed]",
      "text/plain": [
       "<Figure size 432x288 with 1 Axes>"
      ]
     },
     "metadata": {},
     "output_type": "display_data"
    }
   ],
   "source": [
    "df = pd.read_csv(\"levee2019.csv\")\n",
    "df[\"amount_raised\"] = (df[\"amount_raised\"]\n",
    "                       .str.replace(\"M\", \"000000\")\n",
    "                       .str.replace(\" \",\"\")\n",
    "                       .str.replace(\".\", \"\")\n",
    "                       .str.replace(\"€\",\"\")\n",
    "                       .str.replace(\"NC\",\"0\")\n",
    "                       .str.replace('\\D', '')\n",
    "                       .astype(int)\n",
    "                       ) /1000000\n",
    "\n",
    "df[\"amount_raised\"].plot.hist()"
   ]
  },
  {
   "cell_type": "code",
   "execution_count": 22,
   "metadata": {},
   "outputs": [],
   "source": [
    "df[\"investors\"] = (df[\"investors\"]\n",
    "                   .str.replace(\"[\", \"\")\n",
    "                   .str.replace(\"]\", \"\")\n",
    "                   .str.replace(\"'\", \"\")\n",
    "                   .str.split(\", \")\n",
    "                  )\n"
   ]
  },
  {
   "cell_type": "code",
   "execution_count": 23,
   "metadata": {},
   "outputs": [
    {
     "data": {
      "text/plain": [
       "0    15.00\n",
       "1    15.00\n",
       "2     1.00\n",
       "3    15.00\n",
       "4     3.75\n",
       "Name: amount_per_investor, dtype: float64"
      ]
     },
     "execution_count": 23,
     "metadata": {},
     "output_type": "execute_result"
    }
   ],
   "source": [
    "investisseurs = dict()\n",
    "amount_per_investor = dict()\n",
    "df[\"number_of_investors\"] = df.investors.apply(len)\n",
    "df[\"amount_per_investor\"] = (df.amount_raised / df.number_of_investors)\n",
    "df[\"amount_per_investor\"].head()\n"
   ]
  },
  {
   "cell_type": "code",
   "execution_count": 24,
   "metadata": {},
   "outputs": [],
   "source": [
    "def class_investors(investors):\n",
    "    for i in investors:\n",
    "        if i not in investisseurs:\n",
    "            investisseurs[i] = 0\n",
    "            investisseurs[i] += 1\n",
    "        else:\n",
    "            investisseurs[i] += 1\n",
    "            \n",
    "def amount_investor():\n",
    "    api = dict()\n",
    "    for index, row in df.iterrows():\n",
    "        for i in row[\"investors\"]:\n",
    "            if i not in amount_per_investor:\n",
    "                api[i] = 0\n",
    "                api[i] += row[\"amount_per_investor\"]\n",
    "            else:\n",
    "                api[i] += row[\"amount_per_investor\"]\n",
    "    return api\n",
    "\n",
    "def round_sizes():\n",
    "    rs = dict()\n",
    "    for index, row in df.iterrows():\n",
    "        for i in row.investors:\n",
    "            if i not in rs:\n",
    "                rs[i]= []\n",
    "                rs[i].append(row.amount_raised)\n",
    "            else:\n",
    "                rs[i].append(row.amount_raised)\n",
    "    return rs\n",
    "\n",
    "def stat_round_size(dct):\n",
    "    srs = [[\"name\", \"max\", \"med\", \"min\"]]\n",
    "    \n",
    "    for key, value in dct.items():\n",
    "        srs_row = []\n",
    "        srs_row.append(key)\n",
    "        srs_row.append(max(value))\n",
    "        srs_row.append(np.median(value))\n",
    "        srs_row.append(min(value))\n",
    "        srs.append(srs_row)\n",
    "    \n",
    "    return srs\n",
    "        \n",
    "\n",
    "    \n",
    "        \n",
    "\n"
   ]
  },
  {
   "cell_type": "code",
   "execution_count": 25,
   "metadata": {},
   "outputs": [],
   "source": [
    "df[\"investors\"].apply(class_investors)\n",
    "amount_per_investor = amount_investor()\n",
    "\n",
    "round_sizes = round_sizes()\n",
    "stat_round_sizes = stat_round_size(round_sizes)\n"
   ]
  },
  {
   "cell_type": "code",
   "execution_count": 26,
   "metadata": {},
   "outputs": [
    {
     "data": {
      "text/plain": [
       "['business angels', 185.0, 2.0, 0.0]"
      ]
     },
     "execution_count": 26,
     "metadata": {},
     "output_type": "execute_result"
    }
   ],
   "source": [
    "stat_round_sizes[5]"
   ]
  },
  {
   "cell_type": "code",
   "execution_count": null,
   "metadata": {},
   "outputs": [],
   "source": []
  },
  {
   "cell_type": "code",
   "execution_count": 27,
   "metadata": {},
   "outputs": [],
   "source": [
    "investors = pd.Series(investisseurs)\n",
    "amount_per_investor = pd.Series(amount_per_investor)\n",
    "amount_per_investor.sort_values(ascending = False, inplace = True)\n",
    "\n"
   ]
  },
  {
   "cell_type": "code",
   "execution_count": 28,
   "metadata": {},
   "outputs": [
    {
     "data": {
      "text/plain": [
       "2920.5820000000003"
      ]
     },
     "execution_count": 28,
     "metadata": {},
     "output_type": "execute_result"
    }
   ],
   "source": [
    "amount_per_investor.sum()\n",
    "df[\"amount_raised\"].sum()"
   ]
  },
  {
   "cell_type": "code",
   "execution_count": 29,
   "metadata": {},
   "outputs": [
    {
     "name": "stderr",
     "output_type": "stream",
     "text": [
      "/home/theau/anaconda3/lib/python3.7/site-packages/scipy/stats/stats.py:1713: FutureWarning: Using a non-tuple sequence for multidimensional indexing is deprecated; use `arr[tuple(seq)]` instead of `arr[seq]`. In the future this will be interpreted as an array index, `arr[np.array(seq)]`, which will result either in an error or a different result.\n",
      "  return np.add.reduce(sorted[indexer] * weights, axis=axis) / sumval\n"
     ]
    },
    {
     "data": {
      "text/plain": [
       "<matplotlib.axes._subplots.AxesSubplot at 0x7f986e8e2080>"
      ]
     },
     "execution_count": 29,
     "metadata": {},
     "output_type": "execute_result"
    },
    {
     "data": {
      "image/png": "[encoded data removed]",
      "text/plain": [
       "<Figure size 432x288 with 1 Axes>"
      ]
     },
     "metadata": {},
     "output_type": "display_data"
    }
   ],
   "source": [
    "amount_per_investor.describe()\n",
    "sns.distplot(amount_per_investor)"
   ]
  },
  {
   "cell_type": "code",
   "execution_count": 30,
   "metadata": {},
   "outputs": [
    {
     "data": {
      "text/plain": [
       "<matplotlib.axes._subplots.AxesSubplot at 0x7f986ec6b390>"
      ]
     },
     "execution_count": 30,
     "metadata": {},
     "output_type": "execute_result"
    },
    {
     "data": {
      "image/png": "[encoded data removed]",
      "text/plain": [
       "<Figure size 432x288 with 1 Axes>"
      ]
     },
     "metadata": {},
     "output_type": "display_data"
    }
   ],
   "source": [
    "investors.sort_values(ascending = False, inplace = True)\n",
    "sns.distplot(investors)"
   ]
  },
  {
   "cell_type": "code",
   "execution_count": 31,
   "metadata": {},
   "outputs": [
    {
     "data": {
      "text/html": [
       "<div>\n",
       "<style scoped>\n",
       "    .dataframe tbody tr th:only-of-type {\n",
       "        vertical-align: middle;\n",
       "    }\n",
       "\n",
       "    .dataframe tbody tr th {\n",
       "        vertical-align: top;\n",
       "    }\n",
       "\n",
       "    .dataframe thead tr th {\n",
       "        text-align: left;\n",
       "    }\n",
       "</style>\n",
       "<table border=\"1\" class=\"dataframe\">\n",
       "  <thead>\n",
       "    <tr>\n",
       "      <th></th>\n",
       "      <th>week_number</th>\n",
       "      <th>sum</th>\n",
       "      <th>len</th>\n",
       "    </tr>\n",
       "    <tr>\n",
       "      <th></th>\n",
       "      <th></th>\n",
       "      <th>amount_raised</th>\n",
       "      <th>amount_raised</th>\n",
       "    </tr>\n",
       "  </thead>\n",
       "  <tbody>\n",
       "    <tr>\n",
       "      <th>0</th>\n",
       "      <td>2</td>\n",
       "      <td>122.000</td>\n",
       "      <td>7.0</td>\n",
       "    </tr>\n",
       "    <tr>\n",
       "      <th>1</th>\n",
       "      <td>3</td>\n",
       "      <td>259.350</td>\n",
       "      <td>18.0</td>\n",
       "    </tr>\n",
       "    <tr>\n",
       "      <th>2</th>\n",
       "      <td>4</td>\n",
       "      <td>173.650</td>\n",
       "      <td>11.0</td>\n",
       "    </tr>\n",
       "    <tr>\n",
       "      <th>3</th>\n",
       "      <td>5</td>\n",
       "      <td>174.650</td>\n",
       "      <td>12.0</td>\n",
       "    </tr>\n",
       "    <tr>\n",
       "      <th>4</th>\n",
       "      <td>6</td>\n",
       "      <td>468.070</td>\n",
       "      <td>17.0</td>\n",
       "    </tr>\n",
       "    <tr>\n",
       "      <th>5</th>\n",
       "      <td>7</td>\n",
       "      <td>54.700</td>\n",
       "      <td>9.0</td>\n",
       "    </tr>\n",
       "    <tr>\n",
       "      <th>6</th>\n",
       "      <td>8</td>\n",
       "      <td>178.000</td>\n",
       "      <td>11.0</td>\n",
       "    </tr>\n",
       "    <tr>\n",
       "      <th>7</th>\n",
       "      <td>9</td>\n",
       "      <td>267.300</td>\n",
       "      <td>9.0</td>\n",
       "    </tr>\n",
       "    <tr>\n",
       "      <th>8</th>\n",
       "      <td>10</td>\n",
       "      <td>58.400</td>\n",
       "      <td>5.0</td>\n",
       "    </tr>\n",
       "    <tr>\n",
       "      <th>9</th>\n",
       "      <td>11</td>\n",
       "      <td>81.400</td>\n",
       "      <td>13.0</td>\n",
       "    </tr>\n",
       "    <tr>\n",
       "      <th>10</th>\n",
       "      <td>12</td>\n",
       "      <td>261.342</td>\n",
       "      <td>11.0</td>\n",
       "    </tr>\n",
       "    <tr>\n",
       "      <th>11</th>\n",
       "      <td>13</td>\n",
       "      <td>193.950</td>\n",
       "      <td>8.0</td>\n",
       "    </tr>\n",
       "    <tr>\n",
       "      <th>12</th>\n",
       "      <td>14</td>\n",
       "      <td>410.000</td>\n",
       "      <td>8.0</td>\n",
       "    </tr>\n",
       "    <tr>\n",
       "      <th>13</th>\n",
       "      <td>15</td>\n",
       "      <td>217.770</td>\n",
       "      <td>15.0</td>\n",
       "    </tr>\n",
       "  </tbody>\n",
       "</table>\n",
       "</div>"
      ],
      "text/plain": [
       "   week_number           sum           len\n",
       "               amount_raised amount_raised\n",
       "0            2       122.000           7.0\n",
       "1            3       259.350          18.0\n",
       "2            4       173.650          11.0\n",
       "3            5       174.650          12.0\n",
       "4            6       468.070          17.0\n",
       "5            7        54.700           9.0\n",
       "6            8       178.000          11.0\n",
       "7            9       267.300           9.0\n",
       "8           10        58.400           5.0\n",
       "9           11        81.400          13.0\n",
       "10          12       261.342          11.0\n",
       "11          13       193.950           8.0\n",
       "12          14       410.000           8.0\n",
       "13          15       217.770          15.0"
      ]
     },
     "execution_count": 31,
     "metadata": {},
     "output_type": "execute_result"
    }
   ],
   "source": [
    "number_weeks = df.pivot_table(values = \"amount_raised\", index = \"week_number\", aggfunc = [sum, len])\n",
    "number_weeks.reset_index(inplace = True)\n",
    "number_weeks"
   ]
  },
  {
   "cell_type": "code",
   "execution_count": 32,
   "metadata": {},
   "outputs": [],
   "source": [
    "number_weeks.columns = number_weeks.columns.droplevel(1)\n"
   ]
  },
  {
   "cell_type": "code",
   "execution_count": 33,
   "metadata": {},
   "outputs": [
    {
     "data": {
      "text/plain": [
       "0     122.000\n",
       "1     259.350\n",
       "2     173.650\n",
       "3     174.650\n",
       "4     468.070\n",
       "5      54.700\n",
       "6     178.000\n",
       "7     267.300\n",
       "8      58.400\n",
       "9      81.400\n",
       "10    261.342\n",
       "11    193.950\n",
       "12    410.000\n",
       "13    217.770\n",
       "Name: sum, dtype: float64"
      ]
     },
     "execution_count": 33,
     "metadata": {},
     "output_type": "execute_result"
    }
   ],
   "source": [
    "\n",
    "number_weeks['sum']"
   ]
  },
  {
   "cell_type": "code",
   "execution_count": 35,
   "metadata": {},
   "outputs": [
    {
     "data": {
      "image/png": "[encoded data removed]",
      "text/plain": [
       "<Figure size 432x288 with 2 Axes>"
      ]
     },
     "metadata": {},
     "output_type": "display_data"
    }
   ],
   "source": [
    "plt.figure()\n",
    "ax1 = number_weeks['sum'].plot(secondary_y = True, color = 'violet')\n",
    "\n",
    "ax2 = number_weeks[\"len\"].plot(kind='bar', color = 'blue')\n",
    "ax2.grid(True)\n",
    "ax1.grid(False)\n",
    "ax1.set_ylim([0,500])\n",
    "ax2.yaxis.set_major_locator(MultipleLocator(2))\n",
    "\n",
    "\n",
    "plt.show()\n",
    "\n",
    "\n"
   ]
  },
  {
   "cell_type": "code",
   "execution_count": null,
   "metadata": {},
   "outputs": [],
   "source": []
  },
  {
   "cell_type": "code",
   "execution_count": null,
   "metadata": {},
   "outputs": [],
   "source": []
  },
  {
   "cell_type": "code",
   "execution_count": null,
   "metadata": {},
   "outputs": [],
   "source": []
  },
  {
   "cell_type": "code",
   "execution_count": null,
   "metadata": {},
   "outputs": [],
   "source": []
  }
 ],
 "metadata": {
  "kernelspec": {
   "display_name": "Python 3",
   "language": "python",
   "name": "python3"
  },
  "language_info": {
   "codemirror_mode": {
    "name": "ipython",
    "version": 3
   },
   "file_extension": ".py",
   "mimetype": "text/x-python",
   "name": "python",
   "nbconvert_exporter": "python",
   "pygments_lexer": "ipython3",
   "version": "3.7.1"
  }
 },
 "nbformat": 4,
 "nbformat_minor": 2
}
