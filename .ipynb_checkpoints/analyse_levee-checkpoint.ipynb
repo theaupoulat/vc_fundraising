{
 "cells": [
  {
   "cell_type": "markdown",
   "metadata": {},
   "source": [
    "### Analyse des levées françaises de 2019"
   ]
  },
  {
   "cell_type": "code",
   "execution_count": 1,
   "metadata": {},
   "outputs": [],
   "source": [
    "import numpy as np\n",
    "import pandas as pd\n",
    "import matplotlib.pyplot as plt\n",
    "from matplotlib.ticker import MultipleLocator, FormatStrFormatter\n",
    "import seaborn as sns\n",
    "from itertools import islice\n",
    "\n",
    "\n",
    "plt.style.use('fivethirtyeight')\n",
    "\n"
   ]
  },
  {
   "cell_type": "code",
   "execution_count": 2,
   "metadata": {},
   "outputs": [],
   "source": [
    "df = pd.read_csv(\"levee2019.csv\")\n",
    "\n",
    "# format amount raised\n",
    "df[\"amount_raised\"] = (df[\"amount_raised\"]\n",
    "                       .str.replace(\"M\", \"000000\")\n",
    "                       .str.replace(\" \",\"\")\n",
    "                       .str.replace(\".\", \"\")\n",
    "                       .str.replace(\"€\",\"\")\n",
    "                       .str.replace(\"NC\",\"0\")\n",
    "                       .str.replace('\\D', '')\n",
    "                       .astype(int)\n",
    "                       ) /1000000\n",
    "\n"
   ]
  },
  {
   "cell_type": "code",
   "execution_count": 3,
   "metadata": {},
   "outputs": [],
   "source": [
    "# format investors\n",
    "df[\"investors\"] = (df[\"investors\"]\n",
    "                   .str.replace(\"[\", \"\")\n",
    "                   .str.replace(\"]\", \"\")\n",
    "                   .str.replace(\"'\", \"\")\n",
    "                   .str.split(\", \")\n",
    "                  )\n",
    "\n",
    "# format sectors\n",
    "df[\"sector\"] = (df[\"sector\"]\n",
    "                   .str.replace(\"[\", \"\")\n",
    "                   .str.replace(\"]\", \"\")\n",
    "                   .str.replace(\"'\", \"\")\n",
    "                   .str.split(\", \")\n",
    "                  )\n",
    "\n"
   ]
  },
  {
   "cell_type": "code",
   "execution_count": 4,
   "metadata": {},
   "outputs": [],
   "source": [
    "# get number of investors per week\n",
    "df[\"number_of_investors\"] = df.investors.apply(len)"
   ]
  },
  {
   "cell_type": "code",
   "execution_count": 5,
   "metadata": {},
   "outputs": [
    {
     "data": {
      "text/html": [
       "<div>\n",
       "<style scoped>\n",
       "    .dataframe tbody tr th:only-of-type {\n",
       "        vertical-align: middle;\n",
       "    }\n",
       "\n",
       "    .dataframe tbody tr th {\n",
       "        vertical-align: top;\n",
       "    }\n",
       "\n",
       "    .dataframe thead th {\n",
       "        text-align: right;\n",
       "    }\n",
       "</style>\n",
       "<table border=\"1\" class=\"dataframe\">\n",
       "  <thead>\n",
       "    <tr style=\"text-align: right;\">\n",
       "      <th></th>\n",
       "      <th>week_number</th>\n",
       "      <th>startup</th>\n",
       "      <th>amount_raised</th>\n",
       "      <th>sector</th>\n",
       "      <th>description</th>\n",
       "      <th>investors</th>\n",
       "      <th>number_of_investors</th>\n",
       "    </tr>\n",
       "  </thead>\n",
       "  <tbody>\n",
       "    <tr>\n",
       "      <th>0</th>\n",
       "      <td>2</td>\n",
       "      <td>Talentsoft</td>\n",
       "      <td>45.0</td>\n",
       "      <td>[HR, Education, Training, Jobbing]</td>\n",
       "      <td>Talentsoft develops SaaS-based integrated tale...</td>\n",
       "      <td>[Francisco Partners, Bpifrance, Goldman Sachs]</td>\n",
       "      <td>3</td>\n",
       "    </tr>\n",
       "    <tr>\n",
       "      <th>1</th>\n",
       "      <td>2</td>\n",
       "      <td>b network</td>\n",
       "      <td>30.0</td>\n",
       "      <td>[Logistic, Retail]</td>\n",
       "      <td>b network is an event agency that developed a ...</td>\n",
       "      <td>[Ring Capital, business angels]</td>\n",
       "      <td>2</td>\n",
       "    </tr>\n",
       "    <tr>\n",
       "      <th>2</th>\n",
       "      <td>2</td>\n",
       "      <td>Monbuilding</td>\n",
       "      <td>2.0</td>\n",
       "      <td>[Real Estate, Construction]</td>\n",
       "      <td>Monbuilding provides an application to facilit...</td>\n",
       "      <td>[Naxicap Partners, business angels]</td>\n",
       "      <td>2</td>\n",
       "    </tr>\n",
       "    <tr>\n",
       "      <th>3</th>\n",
       "      <td>2</td>\n",
       "      <td>Teambrain</td>\n",
       "      <td>15.0</td>\n",
       "      <td>[Real Estate, Construction]</td>\n",
       "      <td>Teambrain (formerly Kapitaliser) has developed...</td>\n",
       "      <td>[ide Capital]</td>\n",
       "      <td>1</td>\n",
       "    </tr>\n",
       "    <tr>\n",
       "      <th>4</th>\n",
       "      <td>2</td>\n",
       "      <td>PapyHappy</td>\n",
       "      <td>15.0</td>\n",
       "      <td>[Real Estate, Construction]</td>\n",
       "      <td>PapyHappy offers seniors to help them find hou...</td>\n",
       "      <td>[BRD IT, BCF Croissance &amp; Innovation, Bpifranc...</td>\n",
       "      <td>4</td>\n",
       "    </tr>\n",
       "  </tbody>\n",
       "</table>\n",
       "</div>"
      ],
      "text/plain": [
       "   week_number       startup  amount_raised  \\\n",
       "0            2   Talentsoft            45.0   \n",
       "1            2    b network            30.0   \n",
       "2            2  Monbuilding             2.0   \n",
       "3            2    Teambrain            15.0   \n",
       "4            2    PapyHappy            15.0   \n",
       "\n",
       "                               sector  \\\n",
       "0  [HR, Education, Training, Jobbing]   \n",
       "1                  [Logistic, Retail]   \n",
       "2         [Real Estate, Construction]   \n",
       "3         [Real Estate, Construction]   \n",
       "4         [Real Estate, Construction]   \n",
       "\n",
       "                                         description  \\\n",
       "0  Talentsoft develops SaaS-based integrated tale...   \n",
       "1  b network is an event agency that developed a ...   \n",
       "2  Monbuilding provides an application to facilit...   \n",
       "3  Teambrain (formerly Kapitaliser) has developed...   \n",
       "4  PapyHappy offers seniors to help them find hou...   \n",
       "\n",
       "                                           investors  number_of_investors  \n",
       "0     [Francisco Partners, Bpifrance, Goldman Sachs]                    3  \n",
       "1                    [Ring Capital, business angels]                    2  \n",
       "2                [Naxicap Partners, business angels]                    2  \n",
       "3                                      [ide Capital]                    1  \n",
       "4  [BRD IT, BCF Croissance & Innovation, Bpifranc...                    4  "
      ]
     },
     "execution_count": 5,
     "metadata": {},
     "output_type": "execute_result"
    }
   ],
   "source": [
    "df.head()"
   ]
  },
  {
   "cell_type": "markdown",
   "metadata": {},
   "source": [
    "## Plotting weekly fundraisings"
   ]
  },
  {
   "cell_type": "code",
   "execution_count": 19,
   "metadata": {},
   "outputs": [
    {
     "data": {
      "text/html": [
       "<div>\n",
       "<style scoped>\n",
       "    .dataframe tbody tr th:only-of-type {\n",
       "        vertical-align: middle;\n",
       "    }\n",
       "\n",
       "    .dataframe tbody tr th {\n",
       "        vertical-align: top;\n",
       "    }\n",
       "\n",
       "    .dataframe thead th {\n",
       "        text-align: right;\n",
       "    }\n",
       "</style>\n",
       "<table border=\"1\" class=\"dataframe\">\n",
       "  <thead>\n",
       "    <tr style=\"text-align: right;\">\n",
       "      <th></th>\n",
       "      <th>weekly_amount</th>\n",
       "      <th>total_fundraisings</th>\n",
       "    </tr>\n",
       "    <tr>\n",
       "      <th>week_number</th>\n",
       "      <th></th>\n",
       "      <th></th>\n",
       "    </tr>\n",
       "  </thead>\n",
       "  <tbody>\n",
       "    <tr>\n",
       "      <th>2</th>\n",
       "      <td>122.00</td>\n",
       "      <td>7</td>\n",
       "    </tr>\n",
       "    <tr>\n",
       "      <th>3</th>\n",
       "      <td>259.35</td>\n",
       "      <td>18</td>\n",
       "    </tr>\n",
       "    <tr>\n",
       "      <th>4</th>\n",
       "      <td>173.65</td>\n",
       "      <td>11</td>\n",
       "    </tr>\n",
       "    <tr>\n",
       "      <th>5</th>\n",
       "      <td>174.65</td>\n",
       "      <td>12</td>\n",
       "    </tr>\n",
       "    <tr>\n",
       "      <th>6</th>\n",
       "      <td>468.07</td>\n",
       "      <td>17</td>\n",
       "    </tr>\n",
       "  </tbody>\n",
       "</table>\n",
       "</div>"
      ],
      "text/plain": [
       "             weekly_amount  total_fundraisings\n",
       "week_number                                   \n",
       "2                   122.00                   7\n",
       "3                   259.35                  18\n",
       "4                   173.65                  11\n",
       "5                   174.65                  12\n",
       "6                   468.07                  17"
      ]
     },
     "execution_count": 19,
     "metadata": {},
     "output_type": "execute_result"
    }
   ],
   "source": [
    "# groupby object to extract aggregate values\n",
    "per_week = df.groupby(\"week_number\")\n",
    "\n",
    "# dataframe creation for plotting purposes\n",
    "d = {'weekly_amount': per_week.amount_raised.sum(), \"total_fundraisings\": per_week.size()}\n",
    "df_week_recap = pd.DataFrame(data = d)\n",
    "df_week_recap.head()\n"
   ]
  },
  {
   "cell_type": "code",
   "execution_count": 26,
   "metadata": {},
   "outputs": [
    {
     "data": {
      "image/png": "[encoded data removed]",
      "text/plain": [
       "<Figure size 432x288 with 2 Axes>"
      ]
     },
     "metadata": {
      "needs_background": "light"
     },
     "output_type": "display_data"
    }
   ],
   "source": [
    "plt.figure()\n",
    "ax1 = df_week_recap[\"weekly_amount\"].plot(secondary_y = True, color = 'violet')\n",
    "ax2 = df_week_recap[\"total_fundraisings\"].plot(kind='bar', color = 'blue')\n",
    "ax2.grid(True)\n",
    "ax1.grid(False)\n",
    "ax1.set_ylim([0,500])\n",
    "plt.show()\n"
   ]
  },
  {
   "cell_type": "markdown",
   "metadata": {},
   "source": [
    "## Additional analysis"
   ]
  },
  {
   "cell_type": "code",
   "execution_count": 7,
   "metadata": {},
   "outputs": [],
   "source": [
    "# counter for investor involvment\n",
    "investisseurs = {}\n",
    "\n",
    "# counter for sector\n",
    "sectors = {}"
   ]
  },
  {
   "cell_type": "code",
   "execution_count": 8,
   "metadata": {},
   "outputs": [],
   "source": [
    "# counting functions\n",
    "\n",
    "# ... for investor involvment\n",
    "def class_investors(investors):\n",
    "    for i in investors:\n",
    "        if i not in investisseurs:\n",
    "            investisseurs[i] = 1\n",
    "        else:\n",
    "            investisseurs[i] += 1\n",
    "            \n",
    "            \n",
    "# ... for sector count\n",
    "def class_sector(sector):\n",
    "    for i in sector:\n",
    "        if i not in sectors:\n",
    "            sectors[i] = 1\n",
    "        else:\n",
    "            sectors[i] += 1"
   ]
  },
  {
   "cell_type": "code",
   "execution_count": 16,
   "metadata": {},
   "outputs": [
    {
     "data": {
      "text/plain": [
       "Francisco Partners      4\n",
       "Bpifrance             168\n",
       "Goldman Sachs           4\n",
       "Ring Capital            8\n",
       "business angels       476\n",
       "dtype: int64"
      ]
     },
     "execution_count": 16,
     "metadata": {},
     "output_type": "execute_result"
    }
   ],
   "source": [
    "df[\"investors\"].apply(class_investors)\n",
    "\n",
    "# transforms to Series\n",
    "investors = pd.Series(investisseurs)\n",
    "investors.head()"
   ]
  },
  {
   "cell_type": "code",
   "execution_count": 15,
   "metadata": {},
   "outputs": [
    {
     "data": {
      "image/png": "[encoded data removed]",
      "text/plain": [
       "<Figure size 432x288 with 2 Axes>"
      ]
     },
     "metadata": {
      "needs_background": "light"
     },
     "output_type": "display_data"
    }
   ],
   "source": [
    "\n",
    "\n"
   ]
  },
  {
   "cell_type": "code",
   "execution_count": null,
   "metadata": {},
   "outputs": [],
   "source": []
  },
  {
   "cell_type": "code",
   "execution_count": null,
   "metadata": {},
   "outputs": [],
   "source": []
  },
  {
   "cell_type": "code",
   "execution_count": null,
   "metadata": {},
   "outputs": [],
   "source": []
  },
  {
   "cell_type": "code",
   "execution_count": null,
   "metadata": {},
   "outputs": [],
   "source": []
  }
 ],
 "metadata": {
  "kernelspec": {
   "display_name": "Python 3",
   "language": "python",
   "name": "python3"
  },
  "language_info": {
   "codemirror_mode": {
    "name": "ipython",
    "version": 3
   },
   "file_extension": ".py",
   "mimetype": "text/x-python",
   "name": "python",
   "nbconvert_exporter": "python",
   "pygments_lexer": "ipython3",
   "version": "3.7.3"
  }
 },
 "nbformat": 4,
 "nbformat_minor": 2
}
